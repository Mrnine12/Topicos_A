{
  "nbformat": 4,
  "nbformat_minor": 0,
  "metadata": {
    "colab": {
      "name": "Script_Atividade_I.ipynb",
      "provenance": [],
      "collapsed_sections": [],
      "authorship_tag": "ABX9TyNBDaIcGyg8LPim76Nbh9vX",
      "include_colab_link": true
    },
    "kernelspec": {
      "name": "python3",
      "display_name": "Python 3"
    }
  },
  "cells": [
    {
      "cell_type": "markdown",
      "metadata": {
        "id": "view-in-github",
        "colab_type": "text"
      },
      "source": [
        "<a href=\"https://colab.research.google.com/github/Mrnine12/Topicos_A/blob/main/Script_Atividade_I.ipynb\" target=\"_parent\"><img src=\"https://colab.research.google.com/assets/colab-badge.svg\" alt=\"Open In Colab\"/></a>"
      ]
    },
    {
      "cell_type": "markdown",
      "metadata": {
        "id": "hvPNIzY3PBZq"
      },
      "source": [
        "#**Introdução**"
      ]
    },
    {
      "cell_type": "markdown",
      "metadata": {
        "id": "OY0LdV5gPjL3"
      },
      "source": [
        "São diversos os exemplos de situações em que compras realizadas no cartão de créditos são impedidas de serem realizadas por um alerta de possível fraude no cartão. Muitas vezes, estes alertas são falsos positivos, porém para que verdadeiras fraudes sejam combatidas é de extrema importância que as empresas de cartão de crédito possam reconhecer estas transações fraudulentas, para que assim as mesmas sejam impedidas.\n"
      ]
    },
    {
      "cell_type": "markdown",
      "metadata": {
        "id": "A0gEPTk9j4-x"
      },
      "source": [
        "Os dados a serem aqui utilizados são uma amostra de um conjunto maior que contêm transações feitas por cartões de crédito em setembro de 2013 por europeus titulares de cartões de credito. A base original apresenta transações ocorridas em apenas dois dias, e se trata de um conjunto extremamente desbalanceado.\n",
        "\n",
        "A amostra aqui utilizada, conserva essa caracteristica de desbalanceamento, e possui um total de 39992 transações.\n",
        "\n",
        "Dessa forma, o objetivo desta análise é de identificar transações fraudulentas com o cartão de crédito, enfrentando desafios pelo alto nível de desbalanceamento da base utilizada."
      ]
    },
    {
      "cell_type": "markdown",
      "metadata": {
        "id": "sSPIOX_tIImL"
      },
      "source": [
        "**Variáveis**"
      ]
    },
    {
      "cell_type": "markdown",
      "metadata": {
        "id": "VBAwwwjXDpUB"
      },
      "source": [
        "Por questões de confidencialidade e segurança, não foram disponibilizados os dados reais, e sim variáveis numéricas que são resultado de uma transformação utilizando a análise de componentes principais. Porém, três variáveis originais ainda são apresentadas.\n",
        "\n",
        "- *Tempo*: Apresenta em segundos, o tempo decorrido entre cada transação e a primeira transação no conjunto de dados.\n",
        "- *Amount*: Apresenta o montante da transação.\n",
        "- *Class*: É a variável resposta e assume o valor 1 em caso de fraude e 0 em \n",
        "caso contrário."
      ]
    },
    {
      "cell_type": "markdown",
      "metadata": {
        "id": "A-zcdiWHmA-Z"
      },
      "source": [
        "# Análise"
      ]
    },
    {
      "cell_type": "markdown",
      "metadata": {
        "id": "kgKzjCmLPG_R"
      },
      "source": [
        "**Pacotes**"
      ]
    },
    {
      "cell_type": "code",
      "metadata": {
        "id": "iiljzPb9-6ia"
      },
      "source": [
        "import numpy as np\n",
        "import pandas as pd\n",
        "import matplotlib.pyplot as plt"
      ],
      "execution_count": 28,
      "outputs": []
    },
    {
      "cell_type": "code",
      "metadata": {
        "id": "v4lxUQ-qoGn3"
      },
      "source": [
        "from sklearn.preprocessing import RobustScaler\n",
        "from sklearn.model_selection import train_test_split\n",
        "from keras.models import Sequential\n",
        "from keras.layers import Dense\n",
        "from keras.optimizers import Adam \n",
        "from keras.callbacks import EarlyStopping"
      ],
      "execution_count": 29,
      "outputs": []
    },
    {
      "cell_type": "markdown",
      "metadata": {
        "id": "kSf9apajmq0e"
      },
      "source": [
        "**Base utilizada**"
      ]
    },
    {
      "cell_type": "code",
      "metadata": {
        "id": "Ah0bo0oEOdp6",
        "outputId": "a1a67ac5-1fa2-404b-ed3e-4dc4a63fb2f0",
        "colab": {
          "base_uri": "https://localhost:8080/",
          "height": 379
        }
      },
      "source": [
        "creditcard = pd.read_csv(\"https://raw.githubusercontent.com/Mrnine12/Topicos_A/main/Atividade_I/credit_card.csv\")\n",
        "\n",
        "creditcard.head(10)"
      ],
      "execution_count": 30,
      "outputs": [
        {
          "output_type": "execute_result",
          "data": {
            "text/html": [
              "<div>\n",
              "<style scoped>\n",
              "    .dataframe tbody tr th:only-of-type {\n",
              "        vertical-align: middle;\n",
              "    }\n",
              "\n",
              "    .dataframe tbody tr th {\n",
              "        vertical-align: top;\n",
              "    }\n",
              "\n",
              "    .dataframe thead th {\n",
              "        text-align: right;\n",
              "    }\n",
              "</style>\n",
              "<table border=\"1\" class=\"dataframe\">\n",
              "  <thead>\n",
              "    <tr style=\"text-align: right;\">\n",
              "      <th></th>\n",
              "      <th>Time</th>\n",
              "      <th>V1</th>\n",
              "      <th>V2</th>\n",
              "      <th>V3</th>\n",
              "      <th>V4</th>\n",
              "      <th>V5</th>\n",
              "      <th>V6</th>\n",
              "      <th>V7</th>\n",
              "      <th>V8</th>\n",
              "      <th>V9</th>\n",
              "      <th>V10</th>\n",
              "      <th>V11</th>\n",
              "      <th>V12</th>\n",
              "      <th>V13</th>\n",
              "      <th>V14</th>\n",
              "      <th>V15</th>\n",
              "      <th>V16</th>\n",
              "      <th>V17</th>\n",
              "      <th>V18</th>\n",
              "      <th>V19</th>\n",
              "      <th>V20</th>\n",
              "      <th>V21</th>\n",
              "      <th>V22</th>\n",
              "      <th>V23</th>\n",
              "      <th>V24</th>\n",
              "      <th>V25</th>\n",
              "      <th>V26</th>\n",
              "      <th>V27</th>\n",
              "      <th>V28</th>\n",
              "      <th>Amount</th>\n",
              "      <th>Class</th>\n",
              "    </tr>\n",
              "  </thead>\n",
              "  <tbody>\n",
              "    <tr>\n",
              "      <th>0</th>\n",
              "      <td>14514</td>\n",
              "      <td>1.303975</td>\n",
              "      <td>-0.258310</td>\n",
              "      <td>-0.721635</td>\n",
              "      <td>-0.854541</td>\n",
              "      <td>1.701450</td>\n",
              "      <td>3.425969</td>\n",
              "      <td>-1.015053</td>\n",
              "      <td>0.794230</td>\n",
              "      <td>1.596253</td>\n",
              "      <td>-0.460929</td>\n",
              "      <td>0.877475</td>\n",
              "      <td>-2.511859</td>\n",
              "      <td>1.798379</td>\n",
              "      <td>1.604897</td>\n",
              "      <td>0.761679</td>\n",
              "      <td>0.810960</td>\n",
              "      <td>-0.208713</td>\n",
              "      <td>0.593591</td>\n",
              "      <td>-0.030874</td>\n",
              "      <td>0.044627</td>\n",
              "      <td>-0.119766</td>\n",
              "      <td>-0.231042</td>\n",
              "      <td>-0.050669</td>\n",
              "      <td>1.021962</td>\n",
              "      <td>0.368670</td>\n",
              "      <td>1.046266</td>\n",
              "      <td>-0.086559</td>\n",
              "      <td>-0.000983</td>\n",
              "      <td>14.95</td>\n",
              "      <td>0</td>\n",
              "    </tr>\n",
              "    <tr>\n",
              "      <th>1</th>\n",
              "      <td>84901</td>\n",
              "      <td>1.107639</td>\n",
              "      <td>0.069196</td>\n",
              "      <td>0.821514</td>\n",
              "      <td>1.481854</td>\n",
              "      <td>-0.591441</td>\n",
              "      <td>-0.258963</td>\n",
              "      <td>-0.173818</td>\n",
              "      <td>0.098690</td>\n",
              "      <td>0.553184</td>\n",
              "      <td>-0.133232</td>\n",
              "      <td>-0.378575</td>\n",
              "      <td>0.169830</td>\n",
              "      <td>-1.115893</td>\n",
              "      <td>0.177115</td>\n",
              "      <td>0.139224</td>\n",
              "      <td>-0.568983</td>\n",
              "      <td>0.364224</td>\n",
              "      <td>-0.991042</td>\n",
              "      <td>-0.481596</td>\n",
              "      <td>-0.243998</td>\n",
              "      <td>-0.227851</td>\n",
              "      <td>-0.514833</td>\n",
              "      <td>0.118544</td>\n",
              "      <td>0.350317</td>\n",
              "      <td>0.337361</td>\n",
              "      <td>-0.516880</td>\n",
              "      <td>0.047744</td>\n",
              "      <td>0.027315</td>\n",
              "      <td>15.00</td>\n",
              "      <td>0</td>\n",
              "    </tr>\n",
              "    <tr>\n",
              "      <th>2</th>\n",
              "      <td>143075</td>\n",
              "      <td>-0.941798</td>\n",
              "      <td>0.371599</td>\n",
              "      <td>1.162953</td>\n",
              "      <td>-0.804568</td>\n",
              "      <td>1.028349</td>\n",
              "      <td>0.333242</td>\n",
              "      <td>0.708923</td>\n",
              "      <td>0.196478</td>\n",
              "      <td>-0.579269</td>\n",
              "      <td>-0.753377</td>\n",
              "      <td>0.081284</td>\n",
              "      <td>0.187243</td>\n",
              "      <td>-0.224251</td>\n",
              "      <td>0.222237</td>\n",
              "      <td>-0.551577</td>\n",
              "      <td>0.431245</td>\n",
              "      <td>-0.892780</td>\n",
              "      <td>0.562988</td>\n",
              "      <td>0.467408</td>\n",
              "      <td>0.185879</td>\n",
              "      <td>0.024791</td>\n",
              "      <td>-0.166292</td>\n",
              "      <td>-0.290707</td>\n",
              "      <td>0.102435</td>\n",
              "      <td>0.690744</td>\n",
              "      <td>0.346708</td>\n",
              "      <td>-0.052592</td>\n",
              "      <td>0.048002</td>\n",
              "      <td>59.95</td>\n",
              "      <td>0</td>\n",
              "    </tr>\n",
              "    <tr>\n",
              "      <th>3</th>\n",
              "      <td>31415</td>\n",
              "      <td>-1.808886</td>\n",
              "      <td>0.211428</td>\n",
              "      <td>2.327059</td>\n",
              "      <td>-0.080523</td>\n",
              "      <td>-0.897376</td>\n",
              "      <td>0.297207</td>\n",
              "      <td>0.025834</td>\n",
              "      <td>-0.227003</td>\n",
              "      <td>0.101023</td>\n",
              "      <td>2.235219</td>\n",
              "      <td>-0.943096</td>\n",
              "      <td>-0.826729</td>\n",
              "      <td>0.582063</td>\n",
              "      <td>-1.168251</td>\n",
              "      <td>1.897506</td>\n",
              "      <td>-1.152253</td>\n",
              "      <td>-0.677507</td>\n",
              "      <td>2.243395</td>\n",
              "      <td>-0.575063</td>\n",
              "      <td>0.306530</td>\n",
              "      <td>-0.446711</td>\n",
              "      <td>0.189151</td>\n",
              "      <td>-0.332965</td>\n",
              "      <td>-0.171238</td>\n",
              "      <td>0.420579</td>\n",
              "      <td>-0.102430</td>\n",
              "      <td>0.437246</td>\n",
              "      <td>0.314658</td>\n",
              "      <td>100.00</td>\n",
              "      <td>0</td>\n",
              "    </tr>\n",
              "    <tr>\n",
              "      <th>4</th>\n",
              "      <td>77222</td>\n",
              "      <td>1.385003</td>\n",
              "      <td>-1.341675</td>\n",
              "      <td>0.427836</td>\n",
              "      <td>-1.572022</td>\n",
              "      <td>-1.428809</td>\n",
              "      <td>0.015973</td>\n",
              "      <td>-1.266940</td>\n",
              "      <td>0.025820</td>\n",
              "      <td>-1.845229</td>\n",
              "      <td>1.558713</td>\n",
              "      <td>0.489255</td>\n",
              "      <td>-0.351601</td>\n",
              "      <td>0.914950</td>\n",
              "      <td>-0.386678</td>\n",
              "      <td>0.179706</td>\n",
              "      <td>0.284073</td>\n",
              "      <td>-0.189888</td>\n",
              "      <td>1.053705</td>\n",
              "      <td>0.136131</td>\n",
              "      <td>-0.129654</td>\n",
              "      <td>-0.019739</td>\n",
              "      <td>0.187644</td>\n",
              "      <td>-0.177294</td>\n",
              "      <td>-0.494585</td>\n",
              "      <td>0.404626</td>\n",
              "      <td>-0.077278</td>\n",
              "      <td>0.036123</td>\n",
              "      <td>0.020849</td>\n",
              "      <td>79.00</td>\n",
              "      <td>0</td>\n",
              "    </tr>\n",
              "    <tr>\n",
              "      <th>5</th>\n",
              "      <td>38970</td>\n",
              "      <td>-1.103913</td>\n",
              "      <td>-0.030144</td>\n",
              "      <td>1.757495</td>\n",
              "      <td>-1.694520</td>\n",
              "      <td>0.274786</td>\n",
              "      <td>-1.066171</td>\n",
              "      <td>0.432315</td>\n",
              "      <td>-0.310134</td>\n",
              "      <td>-1.423179</td>\n",
              "      <td>0.523797</td>\n",
              "      <td>1.406081</td>\n",
              "      <td>0.239993</td>\n",
              "      <td>0.405224</td>\n",
              "      <td>-0.546869</td>\n",
              "      <td>-1.525588</td>\n",
              "      <td>0.684448</td>\n",
              "      <td>0.080347</td>\n",
              "      <td>-1.276018</td>\n",
              "      <td>0.526366</td>\n",
              "      <td>0.239188</td>\n",
              "      <td>0.167941</td>\n",
              "      <td>0.719872</td>\n",
              "      <td>-0.539147</td>\n",
              "      <td>0.604442</td>\n",
              "      <td>0.785351</td>\n",
              "      <td>-0.200328</td>\n",
              "      <td>0.009038</td>\n",
              "      <td>-0.131889</td>\n",
              "      <td>20.00</td>\n",
              "      <td>0</td>\n",
              "    </tr>\n",
              "    <tr>\n",
              "      <th>6</th>\n",
              "      <td>73171</td>\n",
              "      <td>1.367950</td>\n",
              "      <td>-0.591588</td>\n",
              "      <td>0.168180</td>\n",
              "      <td>-0.572984</td>\n",
              "      <td>-1.035432</td>\n",
              "      <td>-0.934982</td>\n",
              "      <td>-0.481263</td>\n",
              "      <td>-0.070972</td>\n",
              "      <td>-0.785585</td>\n",
              "      <td>0.798814</td>\n",
              "      <td>1.113083</td>\n",
              "      <td>-0.596007</td>\n",
              "      <td>-1.738402</td>\n",
              "      <td>0.331758</td>\n",
              "      <td>-0.770538</td>\n",
              "      <td>0.736539</td>\n",
              "      <td>0.538346</td>\n",
              "      <td>-1.037020</td>\n",
              "      <td>1.037952</td>\n",
              "      <td>-0.055680</td>\n",
              "      <td>0.196520</td>\n",
              "      <td>0.508529</td>\n",
              "      <td>-0.131773</td>\n",
              "      <td>0.542968</td>\n",
              "      <td>0.676559</td>\n",
              "      <td>-0.089498</td>\n",
              "      <td>-0.023256</td>\n",
              "      <td>-0.007846</td>\n",
              "      <td>10.00</td>\n",
              "      <td>0</td>\n",
              "    </tr>\n",
              "    <tr>\n",
              "      <th>7</th>\n",
              "      <td>47598</td>\n",
              "      <td>1.246482</td>\n",
              "      <td>-0.026386</td>\n",
              "      <td>0.061548</td>\n",
              "      <td>0.393117</td>\n",
              "      <td>0.375349</td>\n",
              "      <td>0.991468</td>\n",
              "      <td>-0.268131</td>\n",
              "      <td>0.204089</td>\n",
              "      <td>0.272615</td>\n",
              "      <td>-0.117991</td>\n",
              "      <td>0.116273</td>\n",
              "      <td>1.414781</td>\n",
              "      <td>1.227242</td>\n",
              "      <td>-0.279753</td>\n",
              "      <td>-0.878105</td>\n",
              "      <td>-0.121102</td>\n",
              "      <td>-0.442807</td>\n",
              "      <td>-0.218066</td>\n",
              "      <td>0.624388</td>\n",
              "      <td>-0.037806</td>\n",
              "      <td>-0.088617</td>\n",
              "      <td>0.069322</td>\n",
              "      <td>-0.248789</td>\n",
              "      <td>-1.249054</td>\n",
              "      <td>0.705629</td>\n",
              "      <td>0.531717</td>\n",
              "      <td>0.003721</td>\n",
              "      <td>-0.015040</td>\n",
              "      <td>1.00</td>\n",
              "      <td>0</td>\n",
              "    </tr>\n",
              "    <tr>\n",
              "      <th>8</th>\n",
              "      <td>87223</td>\n",
              "      <td>1.832598</td>\n",
              "      <td>-0.719115</td>\n",
              "      <td>-2.404618</td>\n",
              "      <td>-0.770459</td>\n",
              "      <td>0.310608</td>\n",
              "      <td>-1.185655</td>\n",
              "      <td>0.741761</td>\n",
              "      <td>-0.446728</td>\n",
              "      <td>0.445866</td>\n",
              "      <td>-0.182933</td>\n",
              "      <td>0.660160</td>\n",
              "      <td>0.904013</td>\n",
              "      <td>-0.329101</td>\n",
              "      <td>0.847972</td>\n",
              "      <td>-0.614642</td>\n",
              "      <td>-0.658958</td>\n",
              "      <td>-0.266491</td>\n",
              "      <td>-0.198398</td>\n",
              "      <td>0.928672</td>\n",
              "      <td>0.105721</td>\n",
              "      <td>0.219440</td>\n",
              "      <td>0.487048</td>\n",
              "      <td>-0.229329</td>\n",
              "      <td>-0.352939</td>\n",
              "      <td>0.308340</td>\n",
              "      <td>0.875036</td>\n",
              "      <td>-0.156122</td>\n",
              "      <td>-0.078011</td>\n",
              "      <td>160.00</td>\n",
              "      <td>0</td>\n",
              "    </tr>\n",
              "    <tr>\n",
              "      <th>9</th>\n",
              "      <td>157668</td>\n",
              "      <td>2.038047</td>\n",
              "      <td>0.149229</td>\n",
              "      <td>-1.493564</td>\n",
              "      <td>0.541992</td>\n",
              "      <td>0.136141</td>\n",
              "      <td>-1.183765</td>\n",
              "      <td>0.175941</td>\n",
              "      <td>-0.252149</td>\n",
              "      <td>0.505357</td>\n",
              "      <td>-0.369960</td>\n",
              "      <td>-0.159078</td>\n",
              "      <td>0.152706</td>\n",
              "      <td>-0.334666</td>\n",
              "      <td>-0.751983</td>\n",
              "      <td>0.201389</td>\n",
              "      <td>0.180484</td>\n",
              "      <td>0.678658</td>\n",
              "      <td>-0.438076</td>\n",
              "      <td>-0.139525</td>\n",
              "      <td>-0.192007</td>\n",
              "      <td>-0.334124</td>\n",
              "      <td>-0.875054</td>\n",
              "      <td>0.407086</td>\n",
              "      <td>1.043658</td>\n",
              "      <td>-0.337476</td>\n",
              "      <td>0.140677</td>\n",
              "      <td>-0.064080</td>\n",
              "      <td>-0.025846</td>\n",
              "      <td>1.98</td>\n",
              "      <td>0</td>\n",
              "    </tr>\n",
              "  </tbody>\n",
              "</table>\n",
              "</div>"
            ],
            "text/plain": [
              "     Time        V1        V2        V3  ...       V27       V28  Amount  Class\n",
              "0   14514  1.303975 -0.258310 -0.721635  ... -0.086559 -0.000983   14.95      0\n",
              "1   84901  1.107639  0.069196  0.821514  ...  0.047744  0.027315   15.00      0\n",
              "2  143075 -0.941798  0.371599  1.162953  ... -0.052592  0.048002   59.95      0\n",
              "3   31415 -1.808886  0.211428  2.327059  ...  0.437246  0.314658  100.00      0\n",
              "4   77222  1.385003 -1.341675  0.427836  ...  0.036123  0.020849   79.00      0\n",
              "5   38970 -1.103913 -0.030144  1.757495  ...  0.009038 -0.131889   20.00      0\n",
              "6   73171  1.367950 -0.591588  0.168180  ... -0.023256 -0.007846   10.00      0\n",
              "7   47598  1.246482 -0.026386  0.061548  ...  0.003721 -0.015040    1.00      0\n",
              "8   87223  1.832598 -0.719115 -2.404618  ... -0.156122 -0.078011  160.00      0\n",
              "9  157668  2.038047  0.149229 -1.493564  ... -0.064080 -0.025846    1.98      0\n",
              "\n",
              "[10 rows x 31 columns]"
            ]
          },
          "metadata": {
            "tags": []
          },
          "execution_count": 30
        }
      ]
    },
    {
      "cell_type": "markdown",
      "metadata": {
        "id": "tubgOeoAD4m9"
      },
      "source": [
        "Como antes comentado, a base a ser utilizada apresenta informações sobre análise de fraudes no cartão de credito, tendo como objetivo a classificação de movimentações ou compras com o cartão de credito como fraude ou não.\n",
        "\n",
        "Acima é apresentada uma mostra dos dados, apresentando as três variaveis com \"valores reais\", e as demais variaveis com os valores obtidos com a utilização da Análise de Componentes Principais."
      ]
    },
    {
      "cell_type": "markdown",
      "metadata": {
        "id": "PuMkUgBCmoB8"
      },
      "source": [
        "**Pré processamento**"
      ]
    },
    {
      "cell_type": "markdown",
      "metadata": {
        "id": "X-DsBKYkFQnC"
      },
      "source": [
        "Dando inicio a análise propriamente dita, inicialmente deve se conhecer melhor os dados. Presença de NA's, tipo de variáveis e uma análise descritiva propriamente dita é necessaria para se tomar uma melhor decisão sobre o ajuste do modelo."
      ]
    },
    {
      "cell_type": "code",
      "metadata": {
        "id": "kJjcqaA7obFL"
      },
      "source": [
        "## Formato dos dados\n",
        "\n",
        "creditcard.dtypes"
      ],
      "execution_count": null,
      "outputs": []
    },
    {
      "cell_type": "code",
      "metadata": {
        "id": "T8oGxdgqJt0z"
      },
      "source": [
        "## Busca por NA's\n",
        "\n",
        "creditcard.isnull().sum()"
      ],
      "execution_count": null,
      "outputs": []
    },
    {
      "cell_type": "code",
      "metadata": {
        "id": "eYfpM1klnKr-"
      },
      "source": [
        "## Analise descritiva\n",
        "\n",
        "creditcard.iloc[:, [0, 29]].describe()"
      ],
      "execution_count": null,
      "outputs": []
    },
    {
      "cell_type": "code",
      "metadata": {
        "id": "E1j58zstoxjp"
      },
      "source": [
        "## Situacao quanto ao desbalanceamento\n",
        "\n",
        "print('Transações Não Fraudulentas: {}%'.format(round(creditcard.Class.value_counts()[0]/len(creditcard)*100.0,2)))\n",
        "print('Transações Fraudulentas: {}%'.format(round(creditcard.Class.value_counts()[1]/len(creditcard)*100.0,2)))"
      ],
      "execution_count": null,
      "outputs": []
    },
    {
      "cell_type": "markdown",
      "metadata": {
        "id": "ecKZ8ke3J1o0"
      },
      "source": [
        "Com essa análise inicial é possivel observar que o conjunto de dados não possui dados faltantes, e que exceto a variavel resposta que é categorica, as demais são númerica.\n",
        "\n",
        "Observa-se a grande variabilidade para as variaveis Time e Amount, além do grande desbalanceamento para a variavel resposta, onde apenas 1.23% dos dados é de transações fraudulentas.\n",
        "\n",
        "Para melhor utilizar os dados no futuro modelo, dada a grande variabilidade vista para as duas \"variáveis reais\" numericas, esta duas variaveis serão padronizadas.\n",
        "\n",
        "Quanto ao grande desbalanceamento visto para a variavel resposta, serão utilizadas três abordagens diferentes:\n",
        "\n",
        "- O primeiro modelo terá os dados da forma que estão com o desbalanceamento já existente;\n",
        "- O segundo modelo terá a presença da categoria 1 (fraude) forçada, onde se terá uma divisão em teste e treinamento estratificada;\n",
        "- Por fim, o terceiro modelo utilizará como dados para treino e teste uma amostra da base inteira, que terá todas as observações para a categoria 1 (fraude, categoria com menos observações) e uma amostra da categoria 0 (não fraude) do tamanho de observações da categoria 1."
      ]
    },
    {
      "cell_type": "code",
      "metadata": {
        "id": "rvaHJNR1nDun"
      },
      "source": [
        "## Padronizacao de variaveis com alta variacao\n",
        "\n",
        "padrao = RobustScaler()\n",
        "creditcard['Amount'] = padrao.fit_transform(creditcard['Amount'].values.reshape(-1,1))\n",
        "creditcard['Time'] = padrao.fit_transform(creditcard['Time'].values.reshape(-1,1))\n",
        "\n",
        "creditcard.head(3)"
      ],
      "execution_count": null,
      "outputs": []
    },
    {
      "cell_type": "markdown",
      "metadata": {
        "id": "OHa7gU8cpYbq"
      },
      "source": [
        "**Modelagem**"
      ]
    },
    {
      "cell_type": "code",
      "metadata": {
        "id": "pCwTmWqXNRfx"
      },
      "source": [
        "def medidas(Yteste, previsoes):\n",
        "\n",
        "  matrix_conf = confusion_matrix(Yteste, previsoes, labels = [1, 0])\n",
        "  \n",
        "  # Acuracia\n",
        "  \n",
        "  Acuracia = round(accuracy_score(Yteste, previsoes),3)\n",
        "  \n",
        "  # Sensibilidade\n",
        "  \n",
        "  Sensibilidade = round(matrix_conf[1,1]/(matrix_conf[1,1]+matrix_conf[1,0]),3)\n",
        "  \n",
        "  # Especificidade\n",
        "  \n",
        "  Especificidade = round(matrix_conf[0,0]/(matrix_conf[0,0]+matrix_conf[0,1]),3)\n",
        "  \n",
        "  return(Acuracia, Sensibilidade, Especificidade)"
      ],
      "execution_count": 18,
      "outputs": []
    },
    {
      "cell_type": "code",
      "metadata": {
        "id": "NLQd4K1_QCH-"
      },
      "source": [
        "Time = ACC = Sen = Esp = np.repeat(0, 9)\n",
        "\n",
        "Results = pd.DataFrame([Time, ACC, Sen, Esp],  columns = [\"M1_2C_R\",\"M1_2C_T\",\"M1_1C_R\",\n",
        "                                                          \"M2_2C_R\",\"M2_2C_T\",\"M2_1C_R\",\n",
        "                                                          \"M3_2C_R\",\"M3_2C_T\",\"M3_1C_R\"],\n",
        "                      index = [\"Time\", \"ACC\", \"Sen\", \"Esp\"])"
      ],
      "execution_count": 95,
      "outputs": []
    },
    {
      "cell_type": "markdown",
      "metadata": {
        "id": "FQb70aJ_Q7dh"
      },
      "source": [
        "*Modelo 1 - Padrão*"
      ]
    },
    {
      "cell_type": "code",
      "metadata": {
        "id": "I6K-TGSs2tdE"
      },
      "source": [
        "Xtreino, Xteste, Ytreino, Yteste = train_test_split(creditcard.iloc[:, creditcard.columns != 'Class'],\n",
        "                                                    creditcard['Class'], test_size = 0.25)"
      ],
      "execution_count": 96,
      "outputs": []
    },
    {
      "cell_type": "markdown",
      "metadata": {
        "id": "rTwqRJjBRIYE"
      },
      "source": [
        "Versão 1 - Duas Camadas (relu + sigmoid)"
      ]
    },
    {
      "cell_type": "code",
      "metadata": {
        "id": "Yty7kKXG2t4H"
      },
      "source": [
        "modelo = Sequential()\n",
        "\n",
        "modelo.add(Dense(5, input_dim = 30, activation = 'relu')) \n",
        "modelo.add(Dense(5, activation = 'sigmoid')) \n",
        "modelo.add(Dense(1, activation = 'sigmoid'))   \n",
        "\n",
        "alg = Adam(learning_rate = 0.01)\n",
        "\n",
        "modelo.compile(loss = 'binary_crossentropy', optimizer = alg, metrics = ['accuracy'])"
      ],
      "execution_count": 97,
      "outputs": []
    },
    {
      "cell_type": "code",
      "metadata": {
        "id": "euK5XYxnpe0w"
      },
      "source": [
        "import time\n",
        "start = time.time() \n",
        "\n",
        "parada = EarlyStopping(monitor = 'loss', patience = 5)\n",
        "\n",
        "treinamento = modelo.fit(Xtreino, Ytreino, validation_data = (Xteste, Yteste), \n",
        "                     epochs = 25, verbose = 1, batch_size = 32, callbacks = parada)\n",
        "\n",
        "end = time.time()\n",
        "Results.iloc[0, 0] = (end - start)"
      ],
      "execution_count": null,
      "outputs": []
    },
    {
      "cell_type": "code",
      "metadata": {
        "id": "yJc6u8e6Nwgf"
      },
      "source": [
        "from sklearn.metrics import confusion_matrix\n",
        "from sklearn.metrics import accuracy_score\n",
        "\n",
        "prob = modelo.predict(Xteste)\n",
        "\n",
        "previsoes = np.repeat(0, len(prob))\n",
        "\n",
        "for x in range(0, len(previsoes), 1):\n",
        "  if prob[x] > 0.5:\n",
        "    previsoes[x] = 1\n",
        "    \n",
        "resul = medidas(Yteste, previsoes)\n",
        "\n",
        "Results.iloc[1:4, 0] = resul"
      ],
      "execution_count": 99,
      "outputs": []
    },
    {
      "cell_type": "markdown",
      "metadata": {
        "id": "VQaK9wVhRQF1"
      },
      "source": [
        "Versão 2 - Duas Camadas (tanh + sigmoid)"
      ]
    },
    {
      "cell_type": "code",
      "metadata": {
        "id": "qqzvZSm_Rhpg"
      },
      "source": [
        "modelo = Sequential()\n",
        "\n",
        "modelo.add(Dense(5, input_dim = 30, activation = 'tanh')) \n",
        "modelo.add(Dense(5, activation = 'sigmoid')) \n",
        "modelo.add(Dense(1, activation = 'sigmoid'))   \n",
        "\n",
        "alg = Adam(learning_rate = 0.01)\n",
        "\n",
        "modelo.compile(loss = 'binary_crossentropy', optimizer = alg, metrics = ['accuracy'])"
      ],
      "execution_count": 100,
      "outputs": []
    },
    {
      "cell_type": "code",
      "metadata": {
        "id": "8k0FkLU5Rhpn"
      },
      "source": [
        "import time\n",
        "start = time.time() \n",
        "\n",
        "parada = EarlyStopping(monitor = 'loss', patience = 5)\n",
        "\n",
        "treinamento = modelo.fit(Xtreino, Ytreino, validation_data = (Xteste, Yteste), \n",
        "                     epochs = 25, verbose = 1, batch_size = 32, callbacks = parada)\n",
        "\n",
        "end = time.time()\n",
        "Results.iloc[0, 1] = (end - start)"
      ],
      "execution_count": null,
      "outputs": []
    },
    {
      "cell_type": "code",
      "metadata": {
        "id": "-NS7L0QORhpt"
      },
      "source": [
        "from sklearn.metrics import confusion_matrix\n",
        "from sklearn.metrics import accuracy_score\n",
        "\n",
        "prob = modelo.predict(Xteste)\n",
        "\n",
        "previsoes = np.repeat(0, len(prob))\n",
        "\n",
        "for x in range(0, len(previsoes), 1):\n",
        "  if prob[x] > 0.5:\n",
        "    previsoes[x] = 1\n",
        "    \n",
        "resul = medidas(Yteste, previsoes)\n",
        "\n",
        "Results.iloc[1:4, 1] = resul"
      ],
      "execution_count": 102,
      "outputs": []
    },
    {
      "cell_type": "markdown",
      "metadata": {
        "id": "MYBWI_VlRX-g"
      },
      "source": [
        "Versão 3 - Camada Única (relu)"
      ]
    },
    {
      "cell_type": "code",
      "metadata": {
        "id": "jCFYbKqIR3jI"
      },
      "source": [
        "modelo = Sequential()\n",
        "\n",
        "modelo.add(Dense(5, input_dim = 30, activation = 'relu')) \n",
        "modelo.add(Dense(1, activation = 'sigmoid'))   \n",
        "\n",
        "alg = Adam(learning_rate = 0.01)\n",
        "\n",
        "modelo.compile(loss = 'binary_crossentropy', optimizer = alg, metrics = ['accuracy'])"
      ],
      "execution_count": 103,
      "outputs": []
    },
    {
      "cell_type": "code",
      "metadata": {
        "id": "A722gQb_R3jQ"
      },
      "source": [
        "import time\n",
        "start = time.time() \n",
        "\n",
        "parada = EarlyStopping(monitor = 'loss', patience = 5)\n",
        "\n",
        "treinamento = modelo.fit(Xtreino, Ytreino, validation_data = (Xteste, Yteste), \n",
        "                     epochs = 25, verbose = 1, batch_size = 32, callbacks = parada)\n",
        "\n",
        "end = time.time()\n",
        "Results.iloc[0, 2] = (end - start)"
      ],
      "execution_count": null,
      "outputs": []
    },
    {
      "cell_type": "code",
      "metadata": {
        "id": "-VSZRd-ER3jU"
      },
      "source": [
        "from sklearn.metrics import confusion_matrix\n",
        "from sklearn.metrics import accuracy_score\n",
        "\n",
        "prob = modelo.predict(Xteste)\n",
        "\n",
        "previsoes = np.repeat(0, len(prob))\n",
        "\n",
        "for x in range(0, len(previsoes), 1):\n",
        "  if prob[x] > 0.5:\n",
        "    previsoes[x] = 1\n",
        "    \n",
        "resul = medidas(Yteste, previsoes)\n",
        "\n",
        "Results.iloc[1:4, 2] = resul"
      ],
      "execution_count": 105,
      "outputs": []
    },
    {
      "cell_type": "markdown",
      "metadata": {
        "id": "hP-f9hO0QV_4"
      },
      "source": [
        "*Modelo 2 - Amostra Estratificada*"
      ]
    },
    {
      "cell_type": "code",
      "metadata": {
        "id": "1zcWM6aPDihR"
      },
      "source": [
        "## Modelo 2\n",
        "\n",
        "A = creditcard.query('Class == 0')\n",
        "B = creditcard.query('Class == 1')\n",
        "\n",
        "Xtreino_A, Xteste_A, Ytreino_A, Yteste_A = train_test_split(A.iloc[:, A.columns != 'Class'], A['Class'], test_size = 0.25)\n",
        "Xtreino_B, Xteste_B, Ytreino_B, Yteste_B = train_test_split(B.iloc[:, B.columns != 'Class'], B['Class'], test_size = 0.25)\n",
        "\n",
        "Xtreino = pd.concat([Xtreino_A, Xtreino_B])\n",
        "Xteste = pd.concat([Xteste_A, Xteste_B])\n",
        "Ytreino = pd.concat([Ytreino_A, Ytreino_B])\n",
        "Yteste = pd.concat([Yteste_A, Yteste_B])"
      ],
      "execution_count": 107,
      "outputs": []
    },
    {
      "cell_type": "markdown",
      "metadata": {
        "id": "YnEP8BEzXLMS"
      },
      "source": [
        "*Versão 1 - Duas Camadas (relu + sigmoid)*"
      ]
    },
    {
      "cell_type": "code",
      "metadata": {
        "id": "PXzyMI3aXAXn"
      },
      "source": [
        "modelo = Sequential()\n",
        "\n",
        "modelo.add(Dense(5, input_dim = 30, activation = 'relu')) \n",
        "modelo.add(Dense(5, activation = 'sigmoid')) \n",
        "modelo.add(Dense(1, activation = 'sigmoid'))   \n",
        "\n",
        "alg = Adam(learning_rate = 0.01)\n",
        "\n",
        "modelo.compile(loss = 'binary_crossentropy', optimizer = alg, metrics = ['accuracy'])"
      ],
      "execution_count": 108,
      "outputs": []
    },
    {
      "cell_type": "code",
      "metadata": {
        "id": "k5GWbayfXAXw"
      },
      "source": [
        "import time\n",
        "start = time.time() \n",
        "\n",
        "parada = EarlyStopping(monitor = 'loss', patience = 5)\n",
        "\n",
        "treinamento = modelo.fit(Xtreino, Ytreino, validation_data = (Xteste, Yteste), \n",
        "                     epochs = 25, verbose = 1, batch_size = 32, callbacks = parada)\n",
        "\n",
        "end = time.time()\n",
        "Results.iloc[0, 3] = (end - start)"
      ],
      "execution_count": null,
      "outputs": []
    },
    {
      "cell_type": "code",
      "metadata": {
        "id": "8OnN6VtzXAXz"
      },
      "source": [
        "from sklearn.metrics import confusion_matrix\n",
        "from sklearn.metrics import accuracy_score\n",
        "\n",
        "prob = modelo.predict(Xteste)\n",
        "\n",
        "previsoes = np.repeat(0, len(prob))\n",
        "\n",
        "for x in range(0, len(previsoes), 1):\n",
        "  if prob[x] > 0.5:\n",
        "    previsoes[x] = 1\n",
        "    \n",
        "resul = medidas(Yteste, previsoes)\n",
        "\n",
        "Results.iloc[1:4, 3] = resul"
      ],
      "execution_count": 110,
      "outputs": []
    },
    {
      "cell_type": "markdown",
      "metadata": {
        "id": "1C9B5R9NXAX5"
      },
      "source": [
        "Versão 2 - Duas Camadas (tanh + sigmoid)"
      ]
    },
    {
      "cell_type": "code",
      "metadata": {
        "id": "85b2CHa7XAX5"
      },
      "source": [
        "modelo = Sequential()\n",
        "\n",
        "modelo.add(Dense(5, input_dim = 30, activation = 'tanh')) \n",
        "modelo.add(Dense(5, activation = 'sigmoid')) \n",
        "modelo.add(Dense(1, activation = 'sigmoid'))   \n",
        "\n",
        "alg = Adam(learning_rate = 0.01)\n",
        "\n",
        "modelo.compile(loss = 'binary_crossentropy', optimizer = alg, metrics = ['accuracy'])"
      ],
      "execution_count": 111,
      "outputs": []
    },
    {
      "cell_type": "code",
      "metadata": {
        "id": "omEgg3Q8XAX9"
      },
      "source": [
        "import time\n",
        "start = time.time() \n",
        "\n",
        "parada = EarlyStopping(monitor = 'loss', patience = 5)\n",
        "\n",
        "treinamento = modelo.fit(Xtreino, Ytreino, validation_data = (Xteste, Yteste), \n",
        "                     epochs = 25, verbose = 1, batch_size = 32, callbacks = parada)\n",
        "\n",
        "end = time.time()\n",
        "Results.iloc[0, 4] = (end - start)"
      ],
      "execution_count": null,
      "outputs": []
    },
    {
      "cell_type": "code",
      "metadata": {
        "id": "1zllI9MsXAYB"
      },
      "source": [
        "from sklearn.metrics import confusion_matrix\n",
        "from sklearn.metrics import accuracy_score\n",
        "\n",
        "prob = modelo.predict(Xteste)\n",
        "\n",
        "previsoes = np.repeat(0, len(prob))\n",
        "\n",
        "for x in range(0, len(previsoes), 1):\n",
        "  if prob[x] > 0.5:\n",
        "    previsoes[x] = 1\n",
        "    \n",
        "resul = medidas(Yteste, previsoes)\n",
        "\n",
        "Results.iloc[1:4, 4] = resul"
      ],
      "execution_count": 115,
      "outputs": []
    },
    {
      "cell_type": "markdown",
      "metadata": {
        "id": "xkxZwPv4XAYF"
      },
      "source": [
        "Versão 3 - Camada Única (relu)"
      ]
    },
    {
      "cell_type": "code",
      "metadata": {
        "id": "jbAmxn_eXAYG"
      },
      "source": [
        "modelo = Sequential()\n",
        "\n",
        "modelo.add(Dense(5, input_dim = 30, activation = 'relu')) \n",
        "modelo.add(Dense(1, activation = 'sigmoid'))   \n",
        "\n",
        "alg = Adam(learning_rate = 0.01)\n",
        "\n",
        "modelo.compile(loss = 'binary_crossentropy', optimizer = alg, metrics = ['accuracy'])"
      ],
      "execution_count": 117,
      "outputs": []
    },
    {
      "cell_type": "code",
      "metadata": {
        "id": "K9147MOhXAYL"
      },
      "source": [
        "import time\n",
        "start = time.time() \n",
        "\n",
        "parada = EarlyStopping(monitor = 'loss', patience = 5)\n",
        "\n",
        "treinamento = modelo.fit(Xtreino, Ytreino, validation_data = (Xteste, Yteste), \n",
        "                     epochs = 25, verbose = 1, batch_size = 32, callbacks = parada)\n",
        "\n",
        "end = time.time()\n",
        "Results.iloc[0, 5] = (end - start)"
      ],
      "execution_count": null,
      "outputs": []
    },
    {
      "cell_type": "code",
      "metadata": {
        "id": "PK29unkTXAYP"
      },
      "source": [
        "from sklearn.metrics import confusion_matrix\n",
        "from sklearn.metrics import accuracy_score\n",
        "\n",
        "prob = modelo.predict(Xteste)\n",
        "\n",
        "previsoes = np.repeat(0, len(prob))\n",
        "\n",
        "for x in range(0, len(previsoes), 1):\n",
        "  if prob[x] > 0.5:\n",
        "    previsoes[x] = 1\n",
        "    \n",
        "resul = medidas(Yteste, previsoes)\n",
        "\n",
        "Results.iloc[1:4, 5] = resul"
      ],
      "execution_count": 119,
      "outputs": []
    },
    {
      "cell_type": "markdown",
      "metadata": {
        "id": "sA3L7VthQdtn"
      },
      "source": [
        "*Modelo 3 - Meio a Meio*"
      ]
    },
    {
      "cell_type": "code",
      "metadata": {
        "id": "m61qygevFdA-"
      },
      "source": [
        "### Modelo 3\n",
        "\n",
        "A = creditcard.query('Class == 0')\n",
        "B = creditcard.query('Class == 1')\n",
        "\n",
        "A = A.sample(n=len(B))\n",
        "\n",
        "Xtreino_A, Xteste_A, Ytreino_A, Yteste_A = train_test_split(A.iloc[:, A.columns != 'Class'], A['Class'], test_size = 0.25)\n",
        "Xtreino_B, Xteste_B, Ytreino_B, Yteste_B = train_test_split(B.iloc[:, B.columns != 'Class'], B['Class'], test_size = 0.25)\n",
        "\n",
        "Xtreino = pd.concat([Xtreino_A, Xtreino_B])\n",
        "Xteste = pd.concat([Xteste_A, Xteste_B])\n",
        "Ytreino = pd.concat([Ytreino_A, Ytreino_B])\n",
        "Yteste = pd.concat([Yteste_A, Yteste_B])"
      ],
      "execution_count": 121,
      "outputs": []
    },
    {
      "cell_type": "markdown",
      "metadata": {
        "id": "p_gE7x6bXX-b"
      },
      "source": [
        "*Versão 1 - Duas Camadas (relu + sigmoid)*"
      ]
    },
    {
      "cell_type": "code",
      "metadata": {
        "id": "FH_1TukKXX-i"
      },
      "source": [
        "modelo = Sequential()\n",
        "\n",
        "modelo.add(Dense(5, input_dim = 30, activation = 'relu')) \n",
        "modelo.add(Dense(5, activation = 'sigmoid')) \n",
        "modelo.add(Dense(1, activation = 'sigmoid'))   \n",
        "\n",
        "alg = Adam(learning_rate = 0.01)\n",
        "\n",
        "modelo.compile(loss = 'binary_crossentropy', optimizer = alg, metrics = ['accuracy'])"
      ],
      "execution_count": 122,
      "outputs": []
    },
    {
      "cell_type": "code",
      "metadata": {
        "id": "HIsK6MCwXX-r"
      },
      "source": [
        "import time\n",
        "start = time.time() \n",
        "\n",
        "parada = EarlyStopping(monitor = 'loss', patience = 5)\n",
        "\n",
        "treinamento = modelo.fit(Xtreino, Ytreino, validation_data = (Xteste, Yteste), \n",
        "                     epochs = 25, verbose = 1, batch_size = 32, callbacks = parada)\n",
        "\n",
        "end = time.time()\n",
        "Results.iloc[0, 6] = (end - start)"
      ],
      "execution_count": null,
      "outputs": []
    },
    {
      "cell_type": "code",
      "metadata": {
        "id": "JZG-XpVJXX-v"
      },
      "source": [
        "from sklearn.metrics import confusion_matrix\n",
        "from sklearn.metrics import accuracy_score\n",
        "\n",
        "prob = modelo.predict(Xteste)\n",
        "\n",
        "previsoes = np.repeat(0, len(prob))\n",
        "\n",
        "for x in range(0, len(previsoes), 1):\n",
        "  if prob[x] > 0.5:\n",
        "    previsoes[x] = 1\n",
        "    \n",
        "resul = medidas(Yteste, previsoes)\n",
        "\n",
        "Results.iloc[1:4, 6] = resul"
      ],
      "execution_count": 124,
      "outputs": []
    },
    {
      "cell_type": "markdown",
      "metadata": {
        "id": "1T6yw3LxXX-z"
      },
      "source": [
        "Versão 2 - Duas Camadas (tanh + sigmoid)"
      ]
    },
    {
      "cell_type": "code",
      "metadata": {
        "id": "_eM22WNiXX-2"
      },
      "source": [
        "modelo = Sequential()\n",
        "\n",
        "modelo.add(Dense(5, input_dim = 30, activation = 'tanh')) \n",
        "modelo.add(Dense(5, activation = 'sigmoid')) \n",
        "modelo.add(Dense(1, activation = 'sigmoid'))   \n",
        "\n",
        "alg = Adam(learning_rate = 0.01)\n",
        "\n",
        "modelo.compile(loss = 'binary_crossentropy', optimizer = alg, metrics = ['accuracy'])"
      ],
      "execution_count": 125,
      "outputs": []
    },
    {
      "cell_type": "code",
      "metadata": {
        "id": "lb5kb_OWXX-6"
      },
      "source": [
        "import time\n",
        "start = time.time() \n",
        "\n",
        "parada = EarlyStopping(monitor = 'loss', patience = 5)\n",
        "\n",
        "treinamento = modelo.fit(Xtreino, Ytreino, validation_data = (Xteste, Yteste), \n",
        "                     epochs = 25, verbose = 1, batch_size = 32, callbacks = parada)\n",
        "\n",
        "end = time.time()\n",
        "Results.iloc[0, 7] = (end - start)"
      ],
      "execution_count": null,
      "outputs": []
    },
    {
      "cell_type": "code",
      "metadata": {
        "id": "FXKF5v5UXX-9"
      },
      "source": [
        "from sklearn.metrics import confusion_matrix\n",
        "from sklearn.metrics import accuracy_score\n",
        "\n",
        "prob = modelo.predict(Xteste)\n",
        "\n",
        "previsoes = np.repeat(0, len(prob))\n",
        "\n",
        "for x in range(0, len(previsoes), 1):\n",
        "  if prob[x] > 0.5:\n",
        "    previsoes[x] = 1\n",
        "    \n",
        "resul = medidas(Yteste, previsoes)\n",
        "\n",
        "Results.iloc[1:4, 7] = resul"
      ],
      "execution_count": 127,
      "outputs": []
    },
    {
      "cell_type": "markdown",
      "metadata": {
        "id": "yMLE7YK0XX_B"
      },
      "source": [
        "Versão 3 - Camada Única (relu)"
      ]
    },
    {
      "cell_type": "code",
      "metadata": {
        "id": "M5Sr9i4FXX_B"
      },
      "source": [
        "modelo = Sequential()\n",
        "\n",
        "modelo.add(Dense(5, input_dim = 30, activation = 'relu')) \n",
        "modelo.add(Dense(1, activation = 'sigmoid'))   \n",
        "\n",
        "alg = Adam(learning_rate = 0.01)\n",
        "\n",
        "modelo.compile(loss = 'binary_crossentropy', optimizer = alg, metrics = ['accuracy'])"
      ],
      "execution_count": 128,
      "outputs": []
    },
    {
      "cell_type": "code",
      "metadata": {
        "id": "13gtCCDlXX_G"
      },
      "source": [
        "import time\n",
        "start = time.time() \n",
        "\n",
        "parada = EarlyStopping(monitor = 'loss', patience = 5)\n",
        "\n",
        "treinamento = modelo.fit(Xtreino, Ytreino, validation_data = (Xteste, Yteste), \n",
        "                     epochs = 25, verbose = 1, batch_size = 32, callbacks = parada)\n",
        "\n",
        "end = time.time()\n",
        "Results.iloc[0, 8] = (end - start)"
      ],
      "execution_count": null,
      "outputs": []
    },
    {
      "cell_type": "code",
      "metadata": {
        "id": "eyi56dpNXX_J"
      },
      "source": [
        "from sklearn.metrics import confusion_matrix\n",
        "from sklearn.metrics import accuracy_score\n",
        "\n",
        "prob = modelo.predict(Xteste)\n",
        "\n",
        "previsoes = np.repeat(0, len(prob))\n",
        "\n",
        "for x in range(0, len(previsoes), 1):\n",
        "  if prob[x] > 0.5:\n",
        "    previsoes[x] = 1\n",
        "    \n",
        "resul = medidas(Yteste, previsoes)\n",
        "\n",
        "Results.iloc[1:4, 8] = resul"
      ],
      "execution_count": 130,
      "outputs": []
    },
    {
      "cell_type": "markdown",
      "metadata": {
        "id": "0gC9QwwvYZ_Y"
      },
      "source": [
        "**Resultados**"
      ]
    },
    {
      "cell_type": "code",
      "metadata": {
        "id": "xiilxaIpYcPP",
        "outputId": "957e2583-bd6f-4069-bf78-ca25559598d3",
        "colab": {
          "base_uri": "https://localhost:8080/",
          "height": 173
        }
      },
      "source": [
        "Results"
      ],
      "execution_count": 131,
      "outputs": [
        {
          "output_type": "execute_result",
          "data": {
            "text/html": [
              "<div>\n",
              "<style scoped>\n",
              "    .dataframe tbody tr th:only-of-type {\n",
              "        vertical-align: middle;\n",
              "    }\n",
              "\n",
              "    .dataframe tbody tr th {\n",
              "        vertical-align: top;\n",
              "    }\n",
              "\n",
              "    .dataframe thead th {\n",
              "        text-align: right;\n",
              "    }\n",
              "</style>\n",
              "<table border=\"1\" class=\"dataframe\">\n",
              "  <thead>\n",
              "    <tr style=\"text-align: right;\">\n",
              "      <th></th>\n",
              "      <th>M1_2C_R</th>\n",
              "      <th>M1_2C_T</th>\n",
              "      <th>M1_1C_R</th>\n",
              "      <th>M2_2C_R</th>\n",
              "      <th>M2_2C_T</th>\n",
              "      <th>M2_1C_R</th>\n",
              "      <th>M3_2C_R</th>\n",
              "      <th>M3_2C_T</th>\n",
              "      <th>M3_1C_R</th>\n",
              "    </tr>\n",
              "  </thead>\n",
              "  <tbody>\n",
              "    <tr>\n",
              "      <th>Time</th>\n",
              "      <td>33.602801</td>\n",
              "      <td>33.575692</td>\n",
              "      <td>21.276658</td>\n",
              "      <td>21.441897</td>\n",
              "      <td>34.01394</td>\n",
              "      <td>17.908062</td>\n",
              "      <td>1.985963</td>\n",
              "      <td>1.953169</td>\n",
              "      <td>1.930383</td>\n",
              "    </tr>\n",
              "    <tr>\n",
              "      <th>ACC</th>\n",
              "      <td>0.997000</td>\n",
              "      <td>0.998000</td>\n",
              "      <td>0.998000</td>\n",
              "      <td>0.997000</td>\n",
              "      <td>0.99700</td>\n",
              "      <td>0.997000</td>\n",
              "      <td>0.931000</td>\n",
              "      <td>0.919000</td>\n",
              "      <td>0.935000</td>\n",
              "    </tr>\n",
              "    <tr>\n",
              "      <th>Sen</th>\n",
              "      <td>0.999000</td>\n",
              "      <td>1.000000</td>\n",
              "      <td>1.000000</td>\n",
              "      <td>1.000000</td>\n",
              "      <td>1.00000</td>\n",
              "      <td>0.999000</td>\n",
              "      <td>0.951000</td>\n",
              "      <td>0.927000</td>\n",
              "      <td>0.951000</td>\n",
              "    </tr>\n",
              "    <tr>\n",
              "      <th>Esp</th>\n",
              "      <td>0.831000</td>\n",
              "      <td>0.814000</td>\n",
              "      <td>0.831000</td>\n",
              "      <td>0.756000</td>\n",
              "      <td>0.79700</td>\n",
              "      <td>0.789000</td>\n",
              "      <td>0.911000</td>\n",
              "      <td>0.911000</td>\n",
              "      <td>0.919000</td>\n",
              "    </tr>\n",
              "  </tbody>\n",
              "</table>\n",
              "</div>"
            ],
            "text/plain": [
              "        M1_2C_R    M1_2C_T    M1_1C_R  ...   M3_2C_R   M3_2C_T   M3_1C_R\n",
              "Time  33.602801  33.575692  21.276658  ...  1.985963  1.953169  1.930383\n",
              "ACC    0.997000   0.998000   0.998000  ...  0.931000  0.919000  0.935000\n",
              "Sen    0.999000   1.000000   1.000000  ...  0.951000  0.927000  0.951000\n",
              "Esp    0.831000   0.814000   0.831000  ...  0.911000  0.911000  0.919000\n",
              "\n",
              "[4 rows x 9 columns]"
            ]
          },
          "metadata": {
            "tags": []
          },
          "execution_count": 131
        }
      ]
    },
    {
      "cell_type": "markdown",
      "metadata": {
        "id": "8ybddOSvcAUR"
      },
      "source": [
        "*Modelos*\n",
        "\n",
        "- M1_2C_R: Modelo 1 com 2 camadas ocultas e utilizando a ligação Relu;\n",
        "- M1_2C_T: Modelo 1 com 2 camadas ocultas e utilizando a ligação Tangente Hiperbolica;\n",
        "- M1_1C_R: Modelo 1 com 1 camada oculta e utilizando a ligação Relu;\n",
        "- M2_2C_R: Modelo 2 com 2 camadas ocultas e utilizando a ligação Relu;\n",
        "- M2_2C_T: Modelo 2 com 2 camadas ocultas e utilizando a ligação Tangente Hiperbolica;\n",
        "- M2_1C_R: Modelo 2 com 1 camada oculta e utilizando a ligação Relu;\n",
        "- M3_2C_R: Modelo 3 com 2 camadas ocultas e utilizando a ligação Relu;\n",
        "- M3_2C_T: Modelo 3 com 2 camadas ocultas e utilizando a ligação Tangente Hiperbolica;\n",
        "- M3_1C_R: Modelo 3 com 1 camada oculta e utilizando a ligação Relu.\n"
      ]
    },
    {
      "cell_type": "markdown",
      "metadata": {
        "id": "w-ObJ7_wYmLq"
      },
      "source": [
        "A depender de seu objetivo final, você terá um modelo para escolher, seja olhando apenas para acurácia, o tempo de modelagem ou a sensibilidade e especificidade (Vale ressaltar que nessa situação a sensibilidade está relacionada a situação de não fraude no cartão de credito, enquanto que a especificidade está relacionada a fraude no cartão de credito).\n",
        "\n",
        "Em situações como essa, olhar apenas para acurácia é um grande erro comumente ocorrido. Dado o nivel de desbalanceamento é recomendado que se observe com mais cuidado e maior interesse para a sensibilidade e especificidade.\n",
        "\n",
        "De forma geral, não foram encontradas grandes variações entre as arquiteturas utilizadas, exceto quanto ao tempo, onde a convergencia mais rapida fez o número de epocas necessarias ser reduzida. \n",
        "\n",
        "Porém, se o criterio escolhido para a escolha do modelo for o tempo, o terceiro tipo de modelo onde se utiliza de uma amostra menor dos dados é a escolha correta, dado que reduziu muito o tempo com um bom desempenho.\n",
        "\n",
        "Além do tempo, o terceiro modelo deve ser escolhido ao se observar a especificidade, ou seja caso utilize-se o modelo com a intenção de prever novas fraudes (claramente o objetivo desta base de dados), o terceiro modelo apresenta o melhor resultado.\n",
        "\n",
        "Caso se opte por prever com maior acertividade os casos de não fraude, um dos dois primeiros modelos podem ser utilizados com desempenho superior ao terceiro modelo."
      ]
    },
    {
      "cell_type": "markdown",
      "metadata": {
        "id": "HQEXKaaFbYTh"
      },
      "source": [
        "**Conclusão Final**\n",
        "\n",
        "Diante da modelagem obtida, o terceiro modelo aparenta ser o mais indicado e melhor ajustado para a situação em que se busca prever fraudes no cartão de credito. Além do alto nivel de especificidade, o modelo apresenta menor tempo para estimação, e utiliza menos observações para isso. Mesmo que abaixo, o modelo 3 ainda apresenta um bom desempenho para classificar as observações \"não fraude\", e de forma geral um bom nivel de acerto."
      ]
    }
  ]
}